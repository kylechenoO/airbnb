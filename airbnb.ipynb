{
 "cells": [
  {
   "cell_type": "markdown",
   "metadata": {},
   "source": [
    "#   Airbnb Data Analysis Report\n"
   ]
  },
  {
   "cell_type": "markdown",
   "metadata": {},
   "source": [
    "###   Prepare and Download DataSet\n"
   ]
  },
  {
   "cell_type": "code",
   "execution_count": 6,
   "metadata": {},
   "outputs": [
    {
     "name": "stdout",
     "output_type": "stream",
     "text": [
      "--2018-09-05 12:12:39--  https://oss.hacking-linux.com/udacity/airbnb/seattle/calendar.csv\n",
      "Resolving oss.hacking-linux.com (oss.hacking-linux.com)... 47.75.18.176, 47.75.18.190\n",
      "Connecting to oss.hacking-linux.com (oss.hacking-linux.com)|47.75.18.176|:443... connected.\n",
      "WARNING: cannot verify oss.hacking-linux.com's certificate, issued by 'CN=Encryption Everywhere DV TLS CA - G1,OU=www.digicert.com,O=DigiCert Inc,C=US':\n",
      "  Unable to locally verify the issuer's authority.\n",
      "HTTP request sent, awaiting response... 200 OK\n",
      "Length: 36650955 (35M) [text/csv]\n",
      "Saving to: 'data/seattle/calendar.csv'\n",
      "\n",
      "data/seattle/calend 100%[===================>]  34.95M  11.1MB/s    in 3.2s    \n",
      "\n",
      "2018-09-05 12:12:43 (11.1 MB/s) - 'data/seattle/calendar.csv' saved [36650955/36650955]\n",
      "\n",
      "--2018-09-05 12:12:43--  https://oss.hacking-linux.com/udacity/airbnb/seattle/listings.csv\n",
      "Resolving oss.hacking-linux.com (oss.hacking-linux.com)... 47.75.18.176, 47.75.18.190\n",
      "Connecting to oss.hacking-linux.com (oss.hacking-linux.com)|47.75.18.176|:443... connected.\n",
      "WARNING: cannot verify oss.hacking-linux.com's certificate, issued by 'CN=Encryption Everywhere DV TLS CA - G1,OU=www.digicert.com,O=DigiCert Inc,C=US':\n",
      "  Unable to locally verify the issuer's authority.\n",
      "HTTP request sent, awaiting response... 200 OK\n",
      "Length: 16871061 (16M) [text/csv]\n",
      "Saving to: 'data/seattle/listings.csv'\n",
      "\n",
      "data/seattle/listin 100%[===================>]  16.09M  11.6MB/s    in 1.4s    \n",
      "\n",
      "2018-09-05 12:12:44 (11.6 MB/s) - 'data/seattle/listings.csv' saved [16871061/16871061]\n",
      "\n",
      "--2018-09-05 12:12:45--  https://oss.hacking-linux.com/udacity/airbnb/seattle/reviews.csv\n",
      "Resolving oss.hacking-linux.com (oss.hacking-linux.com)... 47.75.18.176, 47.75.18.190\n",
      "Connecting to oss.hacking-linux.com (oss.hacking-linux.com)|47.75.18.176|:443... connected.\n",
      "WARNING: cannot verify oss.hacking-linux.com's certificate, issued by 'CN=Encryption Everywhere DV TLS CA - G1,OU=www.digicert.com,O=DigiCert Inc,C=US':\n",
      "  Unable to locally verify the issuer's authority.\n",
      "HTTP request sent, awaiting response... 200 OK\n",
      "Length: 36592035 (35M) [text/csv]\n",
      "Saving to: 'data/seattle/reviews.csv'\n",
      "\n",
      "data/seattle/review 100%[===================>]  34.90M  6.19MB/s    in 6.4s    \n",
      "\n",
      "2018-09-05 12:12:51 (5.45 MB/s) - 'data/seattle/reviews.csv' saved [36592035/36592035]\n",
      "\n",
      "--2018-09-05 12:12:51--  https://oss.hacking-linux.com/udacity/airbnb/boston/calendar.csv\n",
      "Resolving oss.hacking-linux.com (oss.hacking-linux.com)... 47.75.18.176, 47.75.18.190\n",
      "Connecting to oss.hacking-linux.com (oss.hacking-linux.com)|47.75.18.176|:443... connected.\n",
      "WARNING: cannot verify oss.hacking-linux.com's certificate, issued by 'CN=Encryption Everywhere DV TLS CA - G1,OU=www.digicert.com,O=DigiCert Inc,C=US':\n",
      "  Unable to locally verify the issuer's authority.\n",
      "HTTP request sent, awaiting response... 200 OK\n",
      "Length: 33521941 (32M) [text/csv]\n",
      "Saving to: 'data/boston/calendar.csv'\n",
      "\n",
      "data/boston/calenda 100%[===================>]  31.97M  20.0MB/s    in 1.6s    \n",
      "\n",
      "2018-09-05 12:12:53 (20.0 MB/s) - 'data/boston/calendar.csv' saved [33521941/33521941]\n",
      "\n",
      "--2018-09-05 12:12:53--  https://oss.hacking-linux.com/udacity/airbnb/boston/listings.csv\n",
      "Resolving oss.hacking-linux.com (oss.hacking-linux.com)... 47.75.18.176, 47.75.18.190\n",
      "Connecting to oss.hacking-linux.com (oss.hacking-linux.com)|47.75.18.176|:443... connected.\n",
      "WARNING: cannot verify oss.hacking-linux.com's certificate, issued by 'CN=Encryption Everywhere DV TLS CA - G1,OU=www.digicert.com,O=DigiCert Inc,C=US':\n",
      "  Unable to locally verify the issuer's authority.\n",
      "HTTP request sent, awaiting response... 200 OK\n",
      "Length: 14756898 (14M) [text/csv]\n",
      "Saving to: 'data/boston/listings.csv'\n",
      "\n",
      "data/boston/listing 100%[===================>]  14.07M  17.5MB/s    in 0.8s    \n",
      "\n",
      "2018-09-05 12:12:59 (17.5 MB/s) - 'data/boston/listings.csv' saved [14756898/14756898]\n",
      "\n",
      "--2018-09-05 12:12:59--  https://oss.hacking-linux.com/udacity/airbnb/boston/reviews.csv\n",
      "Resolving oss.hacking-linux.com (oss.hacking-linux.com)... 47.75.18.176, 47.75.18.190\n",
      "Connecting to oss.hacking-linux.com (oss.hacking-linux.com)|47.75.18.176|:443... connected.\n",
      "WARNING: cannot verify oss.hacking-linux.com's certificate, issued by 'CN=Encryption Everywhere DV TLS CA - G1,OU=www.digicert.com,O=DigiCert Inc,C=US':\n",
      "  Unable to locally verify the issuer's authority.\n",
      "HTTP request sent, awaiting response... 200 OK\n",
      "Length: 27319622 (26M) [text/csv]\n",
      "Saving to: 'data/boston/reviews.csv'\n",
      "\n",
      "data/boston/reviews 100%[===================>]  26.05M  11.0MB/s    in 2.4s    \n",
      "\n",
      "2018-09-05 12:13:02 (11.0 MB/s) - 'data/boston/reviews.csv' saved [27319622/27319622]\n",
      "\n"
     ]
    }
   ],
   "source": [
    "#  initial directorys\n",
    "!mkdir data/\n",
    "!mkdir data/boston\n",
    "!mkdir data/seattle\n",
    "\n",
    "#  download data from oss\n",
    "!wget --no-check-certificate -c https://oss.hacking-linux.com/udacity/airbnb/seattle/calendar.csv -O data/seattle/calendar.csv\n",
    "!wget --no-check-certificate -c https://oss.hacking-linux.com/udacity/airbnb/seattle/listings.csv -O data/seattle/listings.csv\n",
    "!wget --no-check-certificate -c https://oss.hacking-linux.com/udacity/airbnb/seattle/reviews.csv -O data/seattle/reviews.csv\n",
    "!wget --no-check-certificate -c https://oss.hacking-linux.com/udacity/airbnb/boston/calendar.csv -O data/boston/calendar.csv\n",
    "!wget --no-check-certificate -c https://oss.hacking-linux.com/udacity/airbnb/boston/listings.csv -O data/boston/listings.csv\n",
    "!wget --no-check-certificate -c https://oss.hacking-linux.com/udacity/airbnb/boston/reviews.csv -O data/boston/reviews.csv\n",
    "\n"
   ]
  },
  {
   "cell_type": "code",
   "execution_count": null,
   "metadata": {},
   "outputs": [],
   "source": []
  }
 ],
 "metadata": {
  "kernelspec": {
   "display_name": "Python 3",
   "language": "python",
   "name": "python3"
  },
  "language_info": {
   "codemirror_mode": {
    "name": "ipython",
    "version": 3
   },
   "file_extension": ".py",
   "mimetype": "text/x-python",
   "name": "python",
   "nbconvert_exporter": "python",
   "pygments_lexer": "ipython3",
   "version": "3.5.2"
  }
 },
 "nbformat": 4,
 "nbformat_minor": 2
}
